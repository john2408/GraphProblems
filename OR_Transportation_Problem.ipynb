{
 "cells": [
  {
   "cell_type": "code",
   "execution_count": 2,
   "metadata": {},
   "outputs": [],
   "source": [
    "#!<python -m pip install --upgrade --user ortools"
   ]
  },
  {
   "cell_type": "code",
   "execution_count": 3,
   "metadata": {},
   "outputs": [],
   "source": [
    "from ortools.graph import pywrapgraph\n",
    "\n",
    "#https://developers.google.com/optimization/flow/mincostflow\n",
    "#https://towardsdatascience.com/operations-research-in-r-transportation-problem-1df59961b2ad\n",
    "\n",
    "def solve_transportation_problem(start_nodes, end_nodes, capacities, unit_costs, supplies ):\n",
    "    \"\"\"MinCostFlow simple interface example.\"\"\"\n",
    "    # Instantiate a SimpleMinCostFlow solver.\n",
    "    min_cost_flow = pywrapgraph.SimpleMinCostFlow()\n",
    "\n",
    "    # Add each arc.\n",
    "    for arc in zip(start_nodes, end_nodes, capacities, unit_costs):\n",
    "        min_cost_flow.AddArcWithCapacityAndUnitCost(arc[0], arc[1], arc[2],\n",
    "                                                    arc[3])\n",
    "\n",
    "    # Add node supply.\n",
    "    for count, supply in enumerate(supplies):\n",
    "        min_cost_flow.SetNodeSupply(count, supply)\n",
    "\n",
    "    # Find the min cost flow.\n",
    "    status = min_cost_flow.Solve()\n",
    "\n",
    "    if status != min_cost_flow.OPTIMAL:\n",
    "        print('There was an issue with the min cost flow input.')\n",
    "        print(f'Status: {status}')\n",
    "        exit(1)\n",
    "    print('Minimum cost: ', min_cost_flow.OptimalCost())\n",
    "    print('')\n",
    "    print(' Arc   Flow / Capacity  Cost')\n",
    "    for i in range(min_cost_flow.NumArcs()):\n",
    "        cost = min_cost_flow.Flow(i) * min_cost_flow.UnitCost(i)\n",
    "        print('%1s -> %1s    %3s   / %3s   %3s' %\n",
    "              (min_cost_flow.Tail(i), min_cost_flow.Head(i),\n",
    "               min_cost_flow.Flow(i), min_cost_flow.Capacity(i), cost))\n",
    "    "
   ]
  },
  {
   "cell_type": "markdown",
   "metadata": {},
   "source": [
    "<img src=\"img/Google_Transportation_Example.png\">"
   ]
  },
  {
   "cell_type": "code",
   "execution_count": 8,
   "metadata": {},
   "outputs": [],
   "source": [
    "# Google Example\n",
    "\n",
    "# Define four parallel arrays: sources, destinations, capacities,\n",
    "# and unit costs between each pair. For instance, the arc from node 0\n",
    "# to node 1 has a capacity of 15.\n",
    "start_nodes = [0, 0, 1, 1, 1, 2, 2, 3, 4]\n",
    "end_nodes = [1, 2, 2, 3, 4, 3, 4, 4, 2]\n",
    "capacities = [15, 8, 20, 4, 10, 15, 4, 20, 5]\n",
    "unit_costs = [4, 4, 2, 2, 6, 1, 3, 2, 3]\n",
    "\n",
    "# Define an array of supplies at each node.\n",
    "supplies = [20, 0, 0, -5, -15]"
   ]
  },
  {
   "cell_type": "code",
   "execution_count": 9,
   "metadata": {},
   "outputs": [
    {
     "name": "stdout",
     "output_type": "stream",
     "text": [
      "Minimum cost:  150\n",
      "\n",
      " Arc   Flow / Capacity  Cost\n",
      "0 -> 1     12   /  15    48\n",
      "0 -> 2      8   /   8    32\n",
      "1 -> 2      8   /  20    16\n",
      "1 -> 3      4   /   4     8\n",
      "1 -> 4      0   /  10     0\n",
      "2 -> 3     12   /  15    12\n",
      "2 -> 4      4   /   4    12\n",
      "3 -> 4     11   /  20    22\n",
      "4 -> 2      0   /   5     0\n"
     ]
    }
   ],
   "source": [
    "solve_transportation_problem(start_nodes, end_nodes, capacities, unit_costs, supplies)"
   ]
  },
  {
   "cell_type": "markdown",
   "metadata": {},
   "source": [
    "<img src=\"img/Transportation_Problem.png\">"
   ]
  },
  {
   "cell_type": "code",
   "execution_count": 6,
   "metadata": {},
   "outputs": [],
   "source": [
    "# Supply is higer than demand ( 1600 > 1400), then create a dummy client \n",
    "# which will be node 6. \n",
    "\n",
    "# There is not capacity restriction. Then assume a large number por capacity c.\n",
    "c = 10**6\n",
    "\n",
    "start_nodes = [0, 0, 0, 1, 1, 1, 2, 2, 2] + [0, 1, 2]\n",
    "end_nodes = [3, 4, 5, 3, 4, 5, 3, 4, 5] + [6, 6, 6]\n",
    "capacities = [c, c, c, c, c, c, c, c, c] + [c, c, c]\n",
    "unit_costs = [4, 7, 6, 5, 5, 5, 9, 5, 8] + [0, 0, 0]\n",
    "\n",
    "# Define an array of supplies at each node.\n",
    "supplies = [400, 700, 500, -600, -500, -300] + [-200]"
   ]
  },
  {
   "cell_type": "code",
   "execution_count": 7,
   "metadata": {},
   "outputs": [
    {
     "name": "stdout",
     "output_type": "stream",
     "text": [
      "Minimum cost:  6600\n",
      "\n",
      " Arc   Flow / Capacity  Cost\n",
      "0 -> 3    400   / 1000000   1600\n",
      "0 -> 4      0   / 1000000     0\n",
      "0 -> 5      0   / 1000000     0\n",
      "1 -> 3    200   / 1000000   1000\n",
      "1 -> 4      0   / 1000000     0\n",
      "1 -> 5    300   / 1000000   1500\n",
      "2 -> 3      0   / 1000000     0\n",
      "2 -> 4    500   / 1000000   2500\n",
      "2 -> 5      0   / 1000000     0\n",
      "0 -> 6      0   / 1000000     0\n",
      "1 -> 6    200   / 1000000     0\n",
      "2 -> 6      0   / 1000000     0\n"
     ]
    }
   ],
   "source": [
    "solve_transportation_problem(start_nodes, end_nodes, capacities, unit_costs, supplies)"
   ]
  },
  {
   "cell_type": "markdown",
   "metadata": {},
   "source": [
    "# 5 Suppliers, 25 Clients Problem"
   ]
  },
  {
   "cell_type": "code",
   "execution_count": 40,
   "metadata": {},
   "outputs": [],
   "source": [
    "import pandas as pd\n",
    "\n",
    "\n",
    "#pd.read_excel\n",
    "df_cap = pd.read_excel('docs/io.xlsx', \n",
    "            sheet_name = 'Capacities', \n",
    "            usecols = [0,1,2], \n",
    "             dtype = {\n",
    "                        'NodeIndex': str, \n",
    "                        'NodeName': str, \n",
    "                        'Capacity': float})\n",
    "\n",
    "# Load Nodes connections\n",
    "df_conn = pd.read_excel('docs/io.xlsx', \n",
    "                    sheet_name = 'Connections', usecols = [0,1,2,3], \n",
    "                    dtype = {\n",
    "                        'StartNode': str, \n",
    "                        'EndNode': str, \n",
    "                        'Distance': float,\n",
    "                        'Cost': float})"
   ]
  },
  {
   "cell_type": "code",
   "execution_count": 43,
   "metadata": {},
   "outputs": [],
   "source": [
    "# Eliminate Supplier 6\n",
    "df_cap = df_cap[df_cap['NodeName'] != 'Prov 6'].copy(deep = True)\n",
    "\n",
    "# Reindex Nodes\n",
    "df_cap['NodeIndex'] = df_cap.index\n",
    "\n",
    "# Drop na's\n",
    "df_cap.dropna(inplace = True)"
   ]
  },
  {
   "cell_type": "code",
   "execution_count": 45,
   "metadata": {},
   "outputs": [
    {
     "data": {
      "text/html": [
       "<div>\n",
       "<style scoped>\n",
       "    .dataframe tbody tr th:only-of-type {\n",
       "        vertical-align: middle;\n",
       "    }\n",
       "\n",
       "    .dataframe tbody tr th {\n",
       "        vertical-align: top;\n",
       "    }\n",
       "\n",
       "    .dataframe thead th {\n",
       "        text-align: right;\n",
       "    }\n",
       "</style>\n",
       "<table border=\"1\" class=\"dataframe\">\n",
       "  <thead>\n",
       "    <tr style=\"text-align: right;\">\n",
       "      <th></th>\n",
       "      <th>StartNode</th>\n",
       "      <th>EndNode</th>\n",
       "      <th>Distance</th>\n",
       "      <th>Cost</th>\n",
       "    </tr>\n",
       "  </thead>\n",
       "  <tbody>\n",
       "    <tr>\n",
       "      <th>0</th>\n",
       "      <td>Prov 1</td>\n",
       "      <td>Prov 2</td>\n",
       "      <td>0.7</td>\n",
       "      <td>1.0</td>\n",
       "    </tr>\n",
       "    <tr>\n",
       "      <th>1</th>\n",
       "      <td>Prov 1</td>\n",
       "      <td>Prov 3</td>\n",
       "      <td>1.3</td>\n",
       "      <td>1.0</td>\n",
       "    </tr>\n",
       "    <tr>\n",
       "      <th>2</th>\n",
       "      <td>Prov 1</td>\n",
       "      <td>Prov 4</td>\n",
       "      <td>1.5</td>\n",
       "      <td>1.0</td>\n",
       "    </tr>\n",
       "    <tr>\n",
       "      <th>3</th>\n",
       "      <td>Prov 1</td>\n",
       "      <td>Prov 5</td>\n",
       "      <td>2.5</td>\n",
       "      <td>1.0</td>\n",
       "    </tr>\n",
       "    <tr>\n",
       "      <th>4</th>\n",
       "      <td>Prov 1</td>\n",
       "      <td>Cliente 1</td>\n",
       "      <td>5.2</td>\n",
       "      <td>1.0</td>\n",
       "    </tr>\n",
       "  </tbody>\n",
       "</table>\n",
       "</div>"
      ],
      "text/plain": [
       "  StartNode    EndNode  Distance  Cost\n",
       "0    Prov 1     Prov 2       0.7   1.0\n",
       "1    Prov 1     Prov 3       1.3   1.0\n",
       "2    Prov 1     Prov 4       1.5   1.0\n",
       "3    Prov 1     Prov 5       2.5   1.0\n",
       "4    Prov 1  Cliente 1       5.2   1.0"
      ]
     },
     "execution_count": 45,
     "metadata": {},
     "output_type": "execute_result"
    }
   ],
   "source": [
    "df_conn.head()\n",
    "\n",
    "# Eliminate Supplier 6\n",
    "df_conn = df_conn[(df_conn['StartNode'] != 'Prov 6') or (df_conn['NextNode'] != 'Prov 6')].copy(deep = True)"
   ]
  },
  {
   "cell_type": "code",
   "execution_count": 33,
   "metadata": {},
   "outputs": [],
   "source": [
    "node_mapper = dict(zip(df_cap['NodeName'], df_cap['NodeIndex']))"
   ]
  },
  {
   "cell_type": "code",
   "execution_count": 35,
   "metadata": {},
   "outputs": [
    {
     "data": {
      "text/plain": [
       "{'Prov 1': '0',\n",
       " 'Prov 2': '1',\n",
       " 'Prov 3': '2',\n",
       " 'Prov 4': '3',\n",
       " 'Prov 5': '4',\n",
       " 'Prov 6': '5',\n",
       " 'Cliente 1': '6',\n",
       " 'Cliente 2': '7',\n",
       " 'Cliente 3': '8',\n",
       " 'Cliente 4': '9',\n",
       " 'Cliente 5': '10',\n",
       " 'Cliente 6': '11',\n",
       " 'Cliente 7': '12',\n",
       " 'Cliente 8': '13',\n",
       " 'Cliente 9': '14',\n",
       " 'Cliente 10': '15',\n",
       " 'Cliente 11': '16',\n",
       " 'Cliente 12': '17',\n",
       " 'Cliente 13': '18',\n",
       " 'Cliente 14': '19',\n",
       " 'Cliente 15': '20',\n",
       " 'Cliente 16': '21',\n",
       " 'Cliente 17': '22',\n",
       " 'Cliente 18': '23',\n",
       " 'Cliente 19': '24',\n",
       " 'Cliente 20': '25',\n",
       " 'Cliente 21': '26',\n",
       " 'Cliente 22': '27',\n",
       " 'Cliente 23': '28',\n",
       " 'Cliente 24': '29',\n",
       " 'Cliente 25': '30',\n",
       " 'Cliente 26': '31',\n",
       " nan: nan}"
      ]
     },
     "execution_count": 35,
     "metadata": {},
     "output_type": "execute_result"
    }
   ],
   "source": [
    "node_mapper"
   ]
  },
  {
   "cell_type": "code",
   "execution_count": 29,
   "metadata": {},
   "outputs": [
    {
     "data": {
      "text/html": [
       "<div>\n",
       "<style scoped>\n",
       "    .dataframe tbody tr th:only-of-type {\n",
       "        vertical-align: middle;\n",
       "    }\n",
       "\n",
       "    .dataframe tbody tr th {\n",
       "        vertical-align: top;\n",
       "    }\n",
       "\n",
       "    .dataframe thead th {\n",
       "        text-align: right;\n",
       "    }\n",
       "</style>\n",
       "<table border=\"1\" class=\"dataframe\">\n",
       "  <thead>\n",
       "    <tr style=\"text-align: right;\">\n",
       "      <th></th>\n",
       "      <th>NodeIndex</th>\n",
       "      <th>NodeName</th>\n",
       "      <th>Capacity</th>\n",
       "    </tr>\n",
       "  </thead>\n",
       "  <tbody>\n",
       "    <tr>\n",
       "      <th>0</th>\n",
       "      <td>0</td>\n",
       "      <td>Prov 1</td>\n",
       "      <td>430.0</td>\n",
       "    </tr>\n",
       "    <tr>\n",
       "      <th>1</th>\n",
       "      <td>1</td>\n",
       "      <td>Prov 2</td>\n",
       "      <td>550.0</td>\n",
       "    </tr>\n",
       "    <tr>\n",
       "      <th>2</th>\n",
       "      <td>2</td>\n",
       "      <td>Prov 3</td>\n",
       "      <td>465.0</td>\n",
       "    </tr>\n",
       "    <tr>\n",
       "      <th>3</th>\n",
       "      <td>3</td>\n",
       "      <td>Prov 4</td>\n",
       "      <td>467.0</td>\n",
       "    </tr>\n",
       "    <tr>\n",
       "      <th>4</th>\n",
       "      <td>4</td>\n",
       "      <td>Prov 5</td>\n",
       "      <td>564.0</td>\n",
       "    </tr>\n",
       "  </tbody>\n",
       "</table>\n",
       "</div>"
      ],
      "text/plain": [
       "  NodeIndex NodeName  Capacity\n",
       "0         0   Prov 1     430.0\n",
       "1         1   Prov 2     550.0\n",
       "2         2   Prov 3     465.0\n",
       "3         3   Prov 4     467.0\n",
       "4         4   Prov 5     564.0"
      ]
     },
     "execution_count": 29,
     "metadata": {},
     "output_type": "execute_result"
    }
   ],
   "source": [
    "df_cap.head()"
   ]
  },
  {
   "cell_type": "markdown",
   "metadata": {},
   "source": [
    "data"
   ]
  }
 ],
 "metadata": {
  "interpreter": {
   "hash": "9f2dfe2e236a0e1239266e48ccca0822a6aea5f224bb37e244169ca4d9898ccc"
  },
  "kernelspec": {
   "display_name": "Python 3.8.5 64-bit ('base': conda)",
   "language": "python",
   "name": "python3"
  },
  "language_info": {
   "codemirror_mode": {
    "name": "ipython",
    "version": 3
   },
   "file_extension": ".py",
   "mimetype": "text/x-python",
   "name": "python",
   "nbconvert_exporter": "python",
   "pygments_lexer": "ipython3",
   "version": "3.8.5"
  },
  "orig_nbformat": 4
 },
 "nbformat": 4,
 "nbformat_minor": 2
}
