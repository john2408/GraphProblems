{
 "cells": [
  {
   "cell_type": "code",
   "execution_count": null,
   "metadata": {},
   "outputs": [],
   "source": [
    "!python -m pip install --upgrade --user ortools"
   ]
  },
  {
   "cell_type": "code",
   "execution_count": 3,
   "metadata": {},
   "outputs": [],
   "source": [
    "from ortools.graph import pywrapgraph\n",
    "\n",
    "#https://developers.google.com/optimization/flow/mincostflow\n",
    "#https://towardsdatascience.com/operations-research-in-r-transportation-problem-1df59961b2ad\n",
    "\n",
    "def solve_transportation_problem(start_nodes, end_nodes, capacities, unit_costs, supplies ):\n",
    "    \"\"\"MinCostFlow simple interface example.\"\"\"\n",
    "    # Instantiate a SimpleMinCostFlow solver.\n",
    "    min_cost_flow = pywrapgraph.SimpleMinCostFlow()\n",
    "\n",
    "    # Add each arc.\n",
    "    for arc in zip(start_nodes, end_nodes, capacities, unit_costs):\n",
    "        min_cost_flow.AddArcWithCapacityAndUnitCost(arc[0], arc[1], arc[2],\n",
    "                                                    arc[3])\n",
    "\n",
    "    # Add node supply.\n",
    "    for count, supply in enumerate(supplies):\n",
    "        min_cost_flow.SetNodeSupply(count, supply)\n",
    "\n",
    "    # Find the min cost flow.\n",
    "    status = min_cost_flow.Solve()\n",
    "\n",
    "    if status != min_cost_flow.OPTIMAL:\n",
    "        print('There was an issue with the min cost flow input.')\n",
    "        print(f'Status: {status}')\n",
    "        exit(1)\n",
    "    print('Minimum cost: ', min_cost_flow.OptimalCost())\n",
    "    print('')\n",
    "    print(' Arc   Flow / Capacity  Cost')\n",
    "    for i in range(min_cost_flow.NumArcs()):\n",
    "        cost = min_cost_flow.Flow(i) * min_cost_flow.UnitCost(i)\n",
    "        print('%1s -> %1s    %3s   / %3s   %3s' %\n",
    "              (min_cost_flow.Tail(i), min_cost_flow.Head(i),\n",
    "               min_cost_flow.Flow(i), min_cost_flow.Capacity(i), cost))\n",
    "    "
   ]
  },
  {
   "cell_type": "markdown",
   "metadata": {},
   "source": [
    "<img src=\"img/Google_Transportation_Example.png\">"
   ]
  },
  {
   "cell_type": "code",
   "execution_count": 8,
   "metadata": {},
   "outputs": [],
   "source": [
    "# Google Example\n",
    "\n",
    "# Define four parallel arrays: sources, destinations, capacities,\n",
    "# and unit costs between each pair. For instance, the arc from node 0\n",
    "# to node 1 has a capacity of 15.\n",
    "start_nodes = [0, 0, 1, 1, 1, 2, 2, 3, 4]\n",
    "end_nodes = [1, 2, 2, 3, 4, 3, 4, 4, 2]\n",
    "capacities = [15, 8, 20, 4, 10, 15, 4, 20, 5]\n",
    "unit_costs = [4, 4, 2, 2, 6, 1, 3, 2, 3]\n",
    "\n",
    "# Define an array of supplies at each node.\n",
    "supplies = [20, 0, 0, -5, -15]"
   ]
  },
  {
   "cell_type": "code",
   "execution_count": 9,
   "metadata": {},
   "outputs": [
    {
     "name": "stdout",
     "output_type": "stream",
     "text": [
      "Minimum cost:  150\n",
      "\n",
      " Arc   Flow / Capacity  Cost\n",
      "0 -> 1     12   /  15    48\n",
      "0 -> 2      8   /   8    32\n",
      "1 -> 2      8   /  20    16\n",
      "1 -> 3      4   /   4     8\n",
      "1 -> 4      0   /  10     0\n",
      "2 -> 3     12   /  15    12\n",
      "2 -> 4      4   /   4    12\n",
      "3 -> 4     11   /  20    22\n",
      "4 -> 2      0   /   5     0\n"
     ]
    }
   ],
   "source": [
    "solve_transportation_problem(start_nodes, end_nodes, capacities, unit_costs, supplies)"
   ]
  },
  {
   "cell_type": "markdown",
   "metadata": {},
   "source": [
    "<img src=\"img/Transportation_Problem.png\">"
   ]
  },
  {
   "cell_type": "code",
   "execution_count": 6,
   "metadata": {},
   "outputs": [],
   "source": [
    "# Supply is higer than demand ( 1600 > 1400), then create a dummy client \n",
    "# which will be node 6. \n",
    "\n",
    "# There is not capacity restriction. Then assume a large number por capacity c.\n",
    "c = 10**6\n",
    "\n",
    "start_nodes = [0, 0, 0, 1, 1, 1, 2, 2, 2] + [0, 1, 2]\n",
    "end_nodes = [3, 4, 5, 3, 4, 5, 3, 4, 5] + [6, 6, 6]\n",
    "capacities = [c, c, c, c, c, c, c, c, c] + [c, c, c]\n",
    "unit_costs = [4, 7, 6, 5, 5, 5, 9, 5, 8] + [0, 0, 0]\n",
    "\n",
    "# Define an array of supplies at each node.\n",
    "supplies = [400, 700, 500, -600, -500, -300] + [-200]"
   ]
  },
  {
   "cell_type": "code",
   "execution_count": 7,
   "metadata": {},
   "outputs": [
    {
     "name": "stdout",
     "output_type": "stream",
     "text": [
      "Minimum cost:  6600\n",
      "\n",
      " Arc   Flow / Capacity  Cost\n",
      "0 -> 3    400   / 1000000   1600\n",
      "0 -> 4      0   / 1000000     0\n",
      "0 -> 5      0   / 1000000     0\n",
      "1 -> 3    200   / 1000000   1000\n",
      "1 -> 4      0   / 1000000     0\n",
      "1 -> 5    300   / 1000000   1500\n",
      "2 -> 3      0   / 1000000     0\n",
      "2 -> 4    500   / 1000000   2500\n",
      "2 -> 5      0   / 1000000     0\n",
      "0 -> 6      0   / 1000000     0\n",
      "1 -> 6    200   / 1000000     0\n",
      "2 -> 6      0   / 1000000     0\n"
     ]
    }
   ],
   "source": [
    "solve_transportation_problem(start_nodes, end_nodes, capacities, unit_costs, supplies)"
   ]
  },
  {
   "cell_type": "code",
   "execution_count": null,
   "metadata": {},
   "outputs": [],
   "source": []
  }
 ],
 "metadata": {
  "interpreter": {
   "hash": "9f2dfe2e236a0e1239266e48ccca0822a6aea5f224bb37e244169ca4d9898ccc"
  },
  "kernelspec": {
   "display_name": "Python 3.8.5 64-bit ('base': conda)",
   "language": "python",
   "name": "python3"
  },
  "language_info": {
   "codemirror_mode": {
    "name": "ipython",
    "version": 3
   },
   "file_extension": ".py",
   "mimetype": "text/x-python",
   "name": "python",
   "nbconvert_exporter": "python",
   "pygments_lexer": "ipython3",
   "version": "3.8.5"
  },
  "orig_nbformat": 4
 },
 "nbformat": 4,
 "nbformat_minor": 2
}
