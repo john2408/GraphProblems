{
 "cells": [
  {
   "cell_type": "code",
   "execution_count": 1,
   "metadata": {},
   "outputs": [],
   "source": [
    "from ortools.graph import pywrapgraph\n",
    "import pandas as pd\n",
    "import numpy as np\n",
    "\n",
    "from functions.utils import *"
   ]
  },
  {
   "cell_type": "markdown",
   "metadata": {},
   "source": [
    "## Transportation Problem \n",
    "\n",
    "Goal is to allocate the clients (25) which must be supplied by the different Providers (5) in an optimal way so that all demand is satisfied using the nodes in the following graph. "
   ]
  },
  {
   "cell_type": "markdown",
   "metadata": {},
   "source": [
    "<img src=\"img/LargerProblem.jpeg\">"
   ]
  },
  {
   "cell_type": "code",
   "execution_count": 2,
   "metadata": {},
   "outputs": [],
   "source": [
    "# Reference:\n",
    "# https://developers.google.com/optimization/flow/mincostflow\n",
    "# https://towardsdatascience.com/operations-research-in-r-transportation-problem-1df59961b2ad\n",
    "def solve_transportation_problem(start_nodes, end_nodes, capacities, unit_costs, supplies ):\n",
    "    \"\"\"MinCostFlow problem solver using Google OR Tools. \n",
    "    \n",
    "    Args:\n",
    "        start_nodes (list): start nodes at every edge.\n",
    "        end_nodes (list): end nodes at every edge.\n",
    "        capacities (list): array with capacities for every edge.\n",
    "        unit_cost (list): array with cost for every edge\n",
    "        supplies (list): array with demand/supply at every node.\n",
    "\n",
    "    \"\"\"\n",
    "\n",
    "    # Instantiate a SimpleMinCostFlow solver.\n",
    "    min_cost_flow = pywrapgraph.SimpleMinCostFlow()\n",
    "\n",
    "    # Add each arc.\n",
    "    for arc in zip(start_nodes, end_nodes, capacities, unit_costs):\n",
    "        min_cost_flow.AddArcWithCapacityAndUnitCost(arc[0], arc[1], arc[2],\n",
    "                                                    arc[3])\n",
    "\n",
    "    # Add node supply.\n",
    "    for count, supply in enumerate(supplies):\n",
    "        min_cost_flow.SetNodeSupply(count, supply)\n",
    "\n",
    "    # Find the min cost flow.\n",
    "    status = min_cost_flow.Solve()\n",
    "\n",
    "    if status != min_cost_flow.OPTIMAL:\n",
    "        print('There was an issue with the min cost flow input.')\n",
    "        print(f'Status: {status}')\n",
    "        if status == min_cost_flow.INFEASIBLE:\n",
    "            print(\"The problem is infeasible\")\n",
    "        if status == min_cost_flow.UNBALANCED:\n",
    "            print(\"The problem is unbalanced\")\n",
    "\n",
    "\n",
    "    print('Minimum cost: ', min_cost_flow.OptimalCost())\n",
    "    print('')\n",
    "    print(' Arc   Flow / Capacity  Cost')\n",
    "    for i in range(min_cost_flow.NumArcs()):\n",
    "        cost = min_cost_flow.Flow(i) * min_cost_flow.UnitCost(i)\n",
    "        print('%1s -> %1s    %3s   / %3s   %3s' %\n",
    "              (min_cost_flow.Tail(i), min_cost_flow.Head(i),\n",
    "               min_cost_flow.Flow(i), min_cost_flow.Capacity(i), cost))\n",
    "    "
   ]
  },
  {
   "cell_type": "markdown",
   "metadata": {},
   "source": [
    "## 1. Read in Data"
   ]
  },
  {
   "cell_type": "code",
   "execution_count": 9,
   "metadata": {},
   "outputs": [],
   "source": [
    "# Read in Data\n",
    "df_cap = pd.read_excel('docs/io_v2.xlsx', \n",
    "            sheet_name = 'Capacities', \n",
    "            usecols = [0,1,2], \n",
    "             dtype = {\n",
    "                        'NodeIndex': str, \n",
    "                        'NodeName': str, \n",
    "                        'Capacity': float}).dropna()\n",
    "\n",
    "# Load Nodes connections\n",
    "df_conn = pd.read_excel('docs/io_v2.xlsx', \n",
    "                    sheet_name = 'Connections', usecols = [0,1,2,3], \n",
    "                    dtype = {\n",
    "                        'StartNode': str, \n",
    "                        'EndNode': str, \n",
    "                        'Distance': float,\n",
    "                        'Cost': float}).dropna()"
   ]
  },
  {
   "cell_type": "markdown",
   "metadata": {},
   "source": [
    "## 2. Preprocess Data"
   ]
  },
  {
   "cell_type": "code",
   "execution_count": null,
   "metadata": {},
   "outputs": [],
   "source": [
    "# Provider 6 is only considered in the Shortest Path Problem\n",
    "# In order to generate other variations of the problem.\n",
    "# Provider names can be added so that it becomes, \n",
    "# an imbalanced supply or imbalanced demand problem, \n",
    "# by removing Providers in the network.  \n",
    "# ex. ['Prov 5','Prov 6']\n",
    "prov = ['Prov 5','Prov 6']\n",
    "df_cap, df_conn = eliminate_provider(df_cap, df_conn, prov)"
   ]
  },
  {
   "cell_type": "code",
   "execution_count": 10,
   "metadata": {},
   "outputs": [
    {
     "name": "stdout",
     "output_type": "stream",
     "text": [
      " Problem is imbalanced the demand is higher than the supply\n",
      " Adding artifical Provider that delivers missing supply\n"
     ]
    }
   ],
   "source": [
    "# Calculate the total supply and demand in the netwrok\n",
    "cap_prov = df_cap.loc[df_cap['NodeName'].apply(lambda x: 'Prov' in x)]['Capacity'].sum()\n",
    "cap_client = df_cap.loc[df_cap['NodeName'].apply(lambda x: 'Cliente' in x)]['Capacity'].sum()\n",
    "\n",
    "# Check for imbalance problem and adjust it\n",
    "df_cap, df_conn = adjust_umbalance_problem(df_cap, df_conn, cap_prov, cap_client )\n",
    "\n",
    "# Reindex Nodes\n",
    "df_cap['NodeIndex'] = df_cap.index\n",
    "\n",
    "# Drop missing values\n",
    "df_cap.dropna(inplace = True)\n",
    "\n",
    "# Adjust Capacity sign\n",
    "# This step is needed since Google OR Tools considers demands as negative supply values\n",
    "df_cap['sign'] = df_cap['NodeName'].apply(lambda x: -1 if 'Cliente' in x else 1)\n",
    "df_cap['Capacity'] = df_cap['Capacity'] * df_cap['sign']\n",
    "\n",
    "\n",
    "# Trim Start and EndNode\n",
    "# This step is needed to avoid mismatch in the node index conversion\n",
    "cols = ['StartNode', 'EndNode']\n",
    "df_conn = strip_col(df_conn, cols)\n",
    "\n",
    "# Trim Node name\n",
    "cols = ['NodeName']\n",
    "df_cap = strip_col(df_cap, cols)\n",
    "\n",
    "# Map nodes names to their corresponding indeces\n",
    "node_mapper = dict(zip(df_cap['NodeName'], df_cap['NodeIndex'].astype(int)))\n",
    "df_conn['StartNodeIndex'] = df_conn['StartNode'].apply(lambda x: int(node_mapper.get(x)) )\n",
    "df_conn['EndNodeIndex'] = df_conn['EndNode'].apply(lambda x: int(node_mapper.get(x)) )\n",
    "df_conn['Total_Cost'] = (df_conn['Distance'] * df_conn['Cost'] * 10).astype(int)"
   ]
  },
  {
   "cell_type": "markdown",
   "metadata": {},
   "source": [
    "## 3. Generate Input Vectors"
   ]
  },
  {
   "cell_type": "code",
   "execution_count": 11,
   "metadata": {},
   "outputs": [],
   "source": [
    "# Create Input Vectors\n",
    "c = 10**5\n",
    "\n",
    "start_nodes = df_conn['StartNodeIndex'].to_list()\n",
    "end_nodes = df_conn['EndNodeIndex'].to_list()\n",
    "capacities = [c] * df_conn.shape[0]\n",
    "unit_costs = df_conn['Total_Cost'].astype(int).to_list() \n",
    "\n",
    "# Define an array of supplies at each node.\n",
    "supplies = df_cap['Capacity'].astype(int).to_list()"
   ]
  },
  {
   "cell_type": "code",
   "execution_count": 12,
   "metadata": {},
   "outputs": [
    {
     "data": {
      "text/plain": [
       "{'Prov 1': 0,\n",
       " 'Prov 2': 1,\n",
       " 'Prov 3': 2,\n",
       " 'Prov 4': 3,\n",
       " 'Cliente 1': 4,\n",
       " 'Cliente 2': 5,\n",
       " 'Cliente 3': 6,\n",
       " 'Cliente 4': 7,\n",
       " 'Cliente 5': 8,\n",
       " 'Cliente 6': 9,\n",
       " 'Cliente 7': 10,\n",
       " 'Cliente 8': 11,\n",
       " 'Cliente 9': 12,\n",
       " 'Cliente 10': 13,\n",
       " 'Cliente 11': 14,\n",
       " 'Cliente 12': 15,\n",
       " 'Cliente 13': 16,\n",
       " 'Cliente 14': 17,\n",
       " 'Cliente 15': 18,\n",
       " 'Cliente 16': 19,\n",
       " 'Cliente 17': 20,\n",
       " 'Cliente 18': 21,\n",
       " 'Cliente 19': 22,\n",
       " 'Cliente 20': 23,\n",
       " 'Cliente 21': 24,\n",
       " 'Cliente 22': 25,\n",
       " 'Cliente 23': 26,\n",
       " 'Cliente 24': 27,\n",
       " 'Cliente 25': 28,\n",
       " 'Prov Add': 29}"
      ]
     },
     "execution_count": 12,
     "metadata": {},
     "output_type": "execute_result"
    }
   ],
   "source": [
    "node_mapper"
   ]
  },
  {
   "cell_type": "markdown",
   "metadata": {},
   "source": [
    "## 4. Solve Transportation Problem"
   ]
  },
  {
   "cell_type": "code",
   "execution_count": 13,
   "metadata": {},
   "outputs": [
    {
     "name": "stdout",
     "output_type": "stream",
     "text": [
      "Minimum cost:  47962\n",
      "\n",
      " Arc   Flow / Capacity  Cost\n",
      "0 -> 4      0   / 100000     0\n",
      "0 -> 5      0   / 100000     0\n",
      "0 -> 6      0   / 100000     0\n",
      "0 -> 7     44   / 100000   572\n",
      "0 -> 8     59   / 100000   1711\n",
      "0 -> 9      0   / 100000     0\n",
      "0 -> 10      0   / 100000     0\n",
      "0 -> 11      0   / 100000     0\n",
      "0 -> 12      0   / 100000     0\n",
      "0 -> 13     60   / 100000   1440\n",
      "0 -> 14      0   / 100000     0\n",
      "0 -> 15      0   / 100000     0\n",
      "0 -> 16     86   / 100000   3440\n",
      "0 -> 17      0   / 100000     0\n",
      "0 -> 18      0   / 100000     0\n",
      "0 -> 19      0   / 100000     0\n",
      "0 -> 20      0   / 100000     0\n",
      "0 -> 21     38   / 100000   1102\n",
      "0 -> 22      0   / 100000     0\n",
      "0 -> 23      0   / 100000     0\n",
      "0 -> 24      0   / 100000     0\n",
      "0 -> 25      0   / 100000     0\n",
      "0 -> 26    143   / 100000   4433\n",
      "0 -> 27      0   / 100000     0\n",
      "0 -> 28      0   / 100000     0\n",
      "1 -> 4      0   / 100000     0\n",
      "1 -> 5     33   / 100000   1287\n",
      "1 -> 6    115   / 100000   2875\n",
      "1 -> 7      0   / 100000     0\n",
      "1 -> 8     37   / 100000   962\n",
      "1 -> 9     63   / 100000   2079\n",
      "1 -> 10      0   / 100000     0\n",
      "1 -> 11     79   / 100000   2765\n",
      "1 -> 12      0   / 100000     0\n",
      "1 -> 13      0   / 100000     0\n",
      "1 -> 14      0   / 100000     0\n",
      "1 -> 15     20   / 100000   360\n",
      "1 -> 16      0   / 100000     0\n",
      "1 -> 17      0   / 100000     0\n",
      "1 -> 18    105   / 100000   1470\n",
      "1 -> 19      0   / 100000     0\n",
      "1 -> 20     65   / 100000   1820\n",
      "1 -> 21      0   / 100000     0\n",
      "1 -> 22      0   / 100000     0\n",
      "1 -> 23      0   / 100000     0\n",
      "1 -> 24      0   / 100000     0\n",
      "1 -> 25     33   / 100000   825\n",
      "1 -> 26      0   / 100000     0\n",
      "1 -> 27      0   / 100000     0\n",
      "1 -> 28      0   / 100000     0\n",
      "2 -> 4      0   / 100000     0\n",
      "2 -> 5      0   / 100000     0\n",
      "2 -> 6      0   / 100000     0\n",
      "2 -> 7      0   / 100000     0\n",
      "2 -> 8      0   / 100000     0\n",
      "2 -> 9      0   / 100000     0\n",
      "2 -> 10      0   / 100000     0\n",
      "2 -> 11      0   / 100000     0\n",
      "2 -> 12    140   / 100000   3220\n",
      "2 -> 13      0   / 100000     0\n",
      "2 -> 14      0   / 100000     0\n",
      "2 -> 15      0   / 100000     0\n",
      "2 -> 16      0   / 100000     0\n",
      "2 -> 17      0   / 100000     0\n",
      "2 -> 18      0   / 100000     0\n",
      "2 -> 19      0   / 100000     0\n",
      "2 -> 20      0   / 100000     0\n",
      "2 -> 21     79   / 100000   1580\n",
      "2 -> 22     17   / 100000   425\n",
      "2 -> 23      0   / 100000     0\n",
      "2 -> 24     76   / 100000   1444\n",
      "2 -> 25      0   / 100000     0\n",
      "2 -> 26      0   / 100000     0\n",
      "2 -> 27     84   / 100000   1008\n",
      "2 -> 28     69   / 100000   1104\n",
      "3 -> 4      0   / 100000     0\n",
      "3 -> 5      0   / 100000     0\n",
      "3 -> 6      0   / 100000     0\n",
      "3 -> 7      0   / 100000     0\n",
      "3 -> 8      0   / 100000     0\n",
      "3 -> 9      0   / 100000     0\n",
      "3 -> 10     84   / 100000   2520\n",
      "3 -> 11      0   / 100000     0\n",
      "3 -> 12      0   / 100000     0\n",
      "3 -> 13      0   / 100000     0\n",
      "3 -> 14    107   / 100000   2140\n",
      "3 -> 15      0   / 100000     0\n",
      "3 -> 16      0   / 100000     0\n",
      "3 -> 17    147   / 100000   3381\n",
      "3 -> 18      0   / 100000     0\n",
      "3 -> 19    129   / 100000   3999\n",
      "3 -> 20      0   / 100000     0\n",
      "3 -> 21      0   / 100000     0\n",
      "3 -> 22      0   / 100000     0\n",
      "3 -> 23      0   / 100000     0\n",
      "3 -> 24      0   / 100000     0\n",
      "3 -> 25      0   / 100000     0\n",
      "3 -> 26      0   / 100000     0\n",
      "3 -> 27      0   / 100000     0\n",
      "3 -> 28      0   / 100000     0\n",
      "29 -> 4     40   / 100000     0\n",
      "29 -> 5      4   / 100000     0\n",
      "29 -> 6      0   / 100000     0\n",
      "29 -> 7      0   / 100000     0\n",
      "29 -> 8      0   / 100000     0\n",
      "29 -> 9      0   / 100000     0\n",
      "29 -> 10      0   / 100000     0\n",
      "29 -> 11      0   / 100000     0\n",
      "29 -> 12      0   / 100000     0\n",
      "29 -> 13      0   / 100000     0\n",
      "29 -> 14      0   / 100000     0\n",
      "29 -> 15      0   / 100000     0\n",
      "29 -> 16      0   / 100000     0\n",
      "29 -> 17      0   / 100000     0\n",
      "29 -> 18      0   / 100000     0\n",
      "29 -> 19     14   / 100000     0\n",
      "29 -> 20      0   / 100000     0\n",
      "29 -> 21      0   / 100000     0\n",
      "29 -> 22      0   / 100000     0\n",
      "29 -> 23    110   / 100000     0\n",
      "29 -> 24      0   / 100000     0\n",
      "29 -> 25      0   / 100000     0\n",
      "29 -> 26      0   / 100000     0\n",
      "29 -> 27      0   / 100000     0\n",
      "29 -> 28      0   / 100000     0\n"
     ]
    }
   ],
   "source": [
    "solve_transportation_problem(start_nodes, end_nodes, capacities, unit_costs, supplies)"
   ]
  },
  {
   "cell_type": "code",
   "execution_count": null,
   "metadata": {},
   "outputs": [],
   "source": []
  }
 ],
 "metadata": {
  "interpreter": {
   "hash": "e5dcb00e18abdb06ff46096caa11e2a95de5480cc5e53ad845fede16fd30bbae"
  },
  "kernelspec": {
   "display_name": "Python 3.8.8 64-bit ('TensorTrader': conda)",
   "language": "python",
   "name": "python3"
  },
  "language_info": {
   "codemirror_mode": {
    "name": "ipython",
    "version": 3
   },
   "file_extension": ".py",
   "mimetype": "text/x-python",
   "name": "python",
   "nbconvert_exporter": "python",
   "pygments_lexer": "ipython3",
   "version": "3.8.5"
  },
  "orig_nbformat": 4
 },
 "nbformat": 4,
 "nbformat_minor": 2
}
